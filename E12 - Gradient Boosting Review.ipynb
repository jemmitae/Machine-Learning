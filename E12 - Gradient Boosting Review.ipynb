{
 "cells": [
  {
   "cell_type": "markdown",
   "metadata": {},
   "source": [
    "# Gradient Boosting Clasifier"
   ]
  },
  {
   "cell_type": "markdown",
   "metadata": {},
   "source": [
    "GB construye un modelo aditivo de forma progresiva hacia el escenario; Permite la optimización de funciones de pérdida diferenciables arbitrarias. En cada etapa n_classes_ regression árboles se ajustan en el gradiente negativo de la función de pérdida de desviación binomial o multinomial. La clasificación binaria es un caso especial en el que solo se induce un único árbol de regresión"
   ]
  },
  {
   "cell_type": "markdown",
   "metadata": {},
   "source": [
    "Este modelo refina iterativamente, busca el mejor ajuste al residuo mediante un descenso por gradiente. tiene un efecto  de regularización y acelera dramáticamente el training. Como en bagging, permite estimar el error de generalización por OOB."
   ]
  },
  {
   "cell_type": "markdown",
   "metadata": {},
   "source": [
    "para el uso se utiliza la siguiente libreria:\n",
    "sklearn.ensemble.GradientBoostingClassifier"
   ]
  },
  {
   "cell_type": "markdown",
   "metadata": {},
   "source": [
    "sus características son:\n",
    "GradientBoostingClassifier(loss=’deviance’, learning_rate=0.1, n_estimators=100, subsample=1.0, criterion=’friedman_mse’, min_samples_split=2, min_samples_leaf=1, min_weight_fraction_leaf=0.0, max_depth=3, min_impurity_decrease=0.0, min_impurity_split=None, init=None, random_state=None, max_features=None, verbose=0, max_leaf_nodes=None, warm_start=False, presort=’auto’, validation_fraction=0.1, n_iter_no_change=None, tol=0.0001)\n"
   ]
  },
  {
   "cell_type": "markdown",
   "metadata": {},
   "source": [
    "# XGB Classifier"
   ]
  },
  {
   "cell_type": "markdown",
   "metadata": {},
   "source": [
    "Son arboles que se generan secuencialmente en donde el primer árbol le “enseña” al siguiente los datos pero clasificados para que el 2° árbol los tenga primordialmente en cuenta dentro de su entrenamiento del modelo, y de esta manera mejorar la predicción, asi se sigue haciendo sucesivamente hasta llegar al árbol donde se dé el mejor resultado. Después de este, si el algoritmo sigue se realizara sobreajuste de los datos mostrando peores resultados, por ello es importante conocer hasta que árbol se debe abrir el modelo."
   ]
  },
  {
   "cell_type": "markdown",
   "metadata": {},
   "source": [
    "El modulo de XGBoost para Python permite cargar los siguientes modulos:\n",
    "•\tLibSVM text format file\n",
    "•\tComma-separated values (CSV) file\n",
    "•\tNumPy 2D array\n",
    "•\tSciPy 2D sparse array\n",
    "•\tPandas data frame, and\n",
    "•\tXGBoost binary buffer file.\n",
    "Se debe instalar mediante la sentencia:"
   ]
  },
  {
   "cell_type": "code",
   "execution_count": null,
   "metadata": {},
   "outputs": [],
   "source": [
    "# Ensure that you are downloading one of the following:\n",
    "#   * xgboost-{version}-py2.py3-none-manylinux1_x86_64.whl\n",
    "#   * xgboost-{version}-py2.py3-none-win_amd64.whl\n",
    "pip3 install xgboost"
   ]
  },
  {
   "cell_type": "markdown",
   "metadata": {},
   "source": [
    "Para  usuarios de windows que usan herramientas de github tools, pueden abrir el shell git y escribir los siguientes comandos:"
   ]
  },
  {
   "cell_type": "code",
   "execution_count": null,
   "metadata": {},
   "outputs": [],
   "source": [
    "git submodule init\n",
    "git submodule update"
   ]
  },
  {
   "cell_type": "markdown",
   "metadata": {},
   "source": [
    "Seguir la siguiente guia de instalación en la pagina:\n",
    "https://xgboost.readthedocs.io/en/latest/build.html"
   ]
  }
 ],
 "metadata": {
  "kernelspec": {
   "display_name": "Python 3",
   "language": "python",
   "name": "python3"
  },
  "language_info": {
   "codemirror_mode": {
    "name": "ipython",
    "version": 3
   },
   "file_extension": ".py",
   "mimetype": "text/x-python",
   "name": "python",
   "nbconvert_exporter": "python",
   "pygments_lexer": "ipython3",
   "version": "3.7.1"
  }
 },
 "nbformat": 4,
 "nbformat_minor": 2
}
