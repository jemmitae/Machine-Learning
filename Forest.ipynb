{
  "nbformat": 4,
  "nbformat_minor": 0,
  "metadata": {
    "colab": {
      "name": "Copia de Forest.ipynb",
      "version": "0.3.2",
      "provenance": [],
      "collapsed_sections": []
    },
    "kernelspec": {
      "name": "python3",
      "display_name": "Python 3"
    }
  },
  "cells": [
    {
      "metadata": {
        "id": "el7FPzoDTjOC",
        "colab_type": "text"
      },
      "cell_type": "markdown",
      "source": [
        "Se importan los datos para entrenamiento"
      ]
    },
    {
      "metadata": {
        "id": "ep3YhgeBcf4n",
        "colab_type": "code",
        "colab": {}
      },
      "cell_type": "code",
      "source": [
        "import pandas as pd\n",
        "\n",
        "data = pd.read_csv('https://github.com/fermarin/MachineLearningClass/raw/master/dataTrain_carListings.zip')"
      ],
      "execution_count": 0,
      "outputs": []
    },
    {
      "metadata": {
        "id": "QvVJkYIlTpn5",
        "colab_type": "text"
      },
      "cell_type": "markdown",
      "source": [
        "Se definen X y Y, sin tener en cuenta la variable State, ya que según juicio de expertos y validación, esta no es de importancia para el modelo."
      ]
    },
    {
      "metadata": {
        "id": "FguNVXbrckQh",
        "colab_type": "code",
        "colab": {}
      },
      "cell_type": "code",
      "source": [
        "X = data[['Year', 'Mileage', 'Make', 'Model']]\n",
        "Y = data.Price"
      ],
      "execution_count": 0,
      "outputs": []
    },
    {
      "metadata": {
        "id": "0iXpOfvCTteG",
        "colab_type": "text"
      },
      "cell_type": "markdown",
      "source": [
        "Se hace un arreglo de datos convirtiendo las categoricas de X en dummies"
      ]
    },
    {
      "metadata": {
        "id": "tOvETQZFckaw",
        "colab_type": "code",
        "colab": {}
      },
      "cell_type": "code",
      "source": [
        "X = pd.get_dummies(data=X)"
      ],
      "execution_count": 0,
      "outputs": []
    },
    {
      "metadata": {
        "id": "CPKZmsu0TweY",
        "colab_type": "text"
      },
      "cell_type": "markdown",
      "source": [
        "Se definen los set de entrenamiento y test con el 80% para train y 20% para test"
      ]
    },
    {
      "metadata": {
        "id": "fRVgrkBmckg9",
        "colab_type": "code",
        "colab": {}
      },
      "cell_type": "code",
      "source": [
        "from sklearn.model_selection import train_test_split\n",
        "X_train, X_test, Y_train, Y_test = train_test_split(X, Y, test_size = .20, random_state = 42)"
      ],
      "execution_count": 0,
      "outputs": []
    },
    {
      "metadata": {
        "id": "xilM3CHwT6GX",
        "colab_type": "text"
      },
      "cell_type": "markdown",
      "source": [
        "Se genera el modelo de regresion, usamos Random Forest"
      ]
    },
    {
      "metadata": {
        "id": "BZEEWHoWcklY",
        "colab_type": "code",
        "colab": {}
      },
      "cell_type": "code",
      "source": [
        "from sklearn.ensemble import RandomForestRegressor\n",
        "from sklearn.datasets import make_regression\n",
        "\n",
        "regr = RandomForestRegressor(random_state=42,n_estimators=50, max_features=300)"
      ],
      "execution_count": 0,
      "outputs": []
    },
    {
      "metadata": {
        "id": "WdlYpsuCyPJg",
        "colab_type": "text"
      },
      "cell_type": "markdown",
      "source": [
        "Se entrena el modelo"
      ]
    },
    {
      "metadata": {
        "id": "19Hk7BNfckqf",
        "colab_type": "code",
        "colab": {
          "base_uri": "https://localhost:8080/",
          "height": 118
        },
        "outputId": "78e3095d-f2ee-4352-ce05-89701e808942"
      },
      "cell_type": "code",
      "source": [
        "regr.fit(X,Y)"
      ],
      "execution_count": 6,
      "outputs": [
        {
          "output_type": "execute_result",
          "data": {
            "text/plain": [
              "RandomForestRegressor(bootstrap=True, criterion='mse', max_depth=None,\n",
              "           max_features=300, max_leaf_nodes=None,\n",
              "           min_impurity_decrease=0.0, min_impurity_split=None,\n",
              "           min_samples_leaf=1, min_samples_split=2,\n",
              "           min_weight_fraction_leaf=0.0, n_estimators=50, n_jobs=None,\n",
              "           oob_score=False, random_state=42, verbose=0, warm_start=False)"
            ]
          },
          "metadata": {
            "tags": []
          },
          "execution_count": 6
        }
      ]
    },
    {
      "metadata": {
        "id": "ex0eXGtuySqt",
        "colab_type": "text"
      },
      "cell_type": "markdown",
      "source": [
        "Se genera la predicción"
      ]
    },
    {
      "metadata": {
        "id": "8AwU7FGeckxB",
        "colab_type": "code",
        "colab": {}
      },
      "cell_type": "code",
      "source": [
        "predicted = regr.predict(X_test)"
      ],
      "execution_count": 0,
      "outputs": []
    },
    {
      "metadata": {
        "id": "joIneYa8y73z",
        "colab_type": "text"
      },
      "cell_type": "markdown",
      "source": [
        "Revisamos el RMSE"
      ]
    },
    {
      "metadata": {
        "id": "pmSNt5JsdEXV",
        "colab_type": "code",
        "outputId": "61eff81c-22c7-42b9-b71b-ee65140019ca",
        "colab": {
          "base_uri": "https://localhost:8080/",
          "height": 50
        }
      },
      "cell_type": "code",
      "source": [
        "import numpy as np\n",
        "from sklearn.metrics import mean_squared_error\n",
        "rmse = np.sqrt(mean_squared_error(Y_test, predicted))\n",
        "print('RMSE:')\n",
        "print(rmse)"
      ],
      "execution_count": 8,
      "outputs": [
        {
          "output_type": "stream",
          "text": [
            "RMSE:\n",
            "1621.2030381096497\n"
          ],
          "name": "stdout"
        }
      ]
    },
    {
      "metadata": {
        "id": "sI14Zt7ty-_z",
        "colab_type": "text"
      },
      "cell_type": "markdown",
      "source": [
        "Cargamos la data de test para usar en la api"
      ]
    },
    {
      "metadata": {
        "id": "bbg9xxGPdEbi",
        "colab_type": "code",
        "colab": {}
      },
      "cell_type": "code",
      "source": [
        "data_test = pd.read_csv('https://github.com/albahnsen/PracticalMachineLearningClass/raw/master/datasets/dataTest_carListings.zip', index_col=0)"
      ],
      "execution_count": 0,
      "outputs": []
    },
    {
      "metadata": {
        "id": "fz5oZe68zE3j",
        "colab_type": "text"
      },
      "cell_type": "markdown",
      "source": [
        "Se asigna X2"
      ]
    },
    {
      "metadata": {
        "id": "ufJzZWvodEhX",
        "colab_type": "code",
        "colab": {}
      },
      "cell_type": "code",
      "source": [
        "X2 = data_test[['Year', 'Mileage', 'Make', 'Model']]"
      ],
      "execution_count": 0,
      "outputs": []
    },
    {
      "metadata": {
        "id": "y37OPyTozHYG",
        "colab_type": "text"
      },
      "cell_type": "markdown",
      "source": [
        "Convertimos en Dummies las categoricas de X2"
      ]
    },
    {
      "metadata": {
        "id": "c6hvakurpTIZ",
        "colab_type": "code",
        "colab": {}
      },
      "cell_type": "code",
      "source": [
        "X2 = pd.get_dummies(data=X2)"
      ],
      "execution_count": 0,
      "outputs": []
    },
    {
      "metadata": {
        "id": "ovJIWUoizNVU",
        "colab_type": "text"
      },
      "cell_type": "markdown",
      "source": [
        "Se  genera la prediccion con el modelo entrenado y la data de test"
      ]
    },
    {
      "metadata": {
        "id": "tuouaYpFdV9m",
        "colab_type": "code",
        "colab": {}
      },
      "cell_type": "code",
      "source": [
        "y_pred = regr.predict(X2)"
      ],
      "execution_count": 0,
      "outputs": []
    },
    {
      "metadata": {
        "id": "Vgu_j--czQ1T",
        "colab_type": "text"
      },
      "cell_type": "markdown",
      "source": [
        "Cargamos el archivo con los resultados"
      ]
    },
    {
      "metadata": {
        "id": "wqy8zq97dc5L",
        "colab_type": "code",
        "colab": {}
      },
      "cell_type": "code",
      "source": [
        "pd.DataFrame(y_pred).to_csv('test_submission6.csv', index_label='ID', header=['Price'])"
      ],
      "execution_count": 0,
      "outputs": []
    }
  ]
}